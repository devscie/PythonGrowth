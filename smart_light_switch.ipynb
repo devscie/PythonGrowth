{
  "nbformat": 4,
  "nbformat_minor": 0,
  "metadata": {
    "colab": {
      "name": "smart_light_switch.ipynb",
      "provenance": [],
      "authorship_tag": "ABX9TyM0ap24LcvRJ4VyuZSKISSh"
    },
    "kernelspec": {
      "name": "python3",
      "display_name": "Python 3"
    },
    "language_info": {
      "name": "python"
    }
  },
  "cells": [
    {
      "cell_type": "markdown",
      "metadata": {
        "id": "QJ0ed12MbfjR"
      },
      "source": [
        "\n",
        "**Vamos criar um interruptor de luz que desliga as luzes se for de dia e liga se for noite.**\n",
        "\n",
        "**Aqui está uma olhada no código completo. Usaremos is_day para armazenar dia e noite e outra variável para acender a luz.**\n",
        "\n",
        "---\n",
        "\n",
        "Let's create a light switch that switches the lights off if it's daytime and on if it's nighttime.\n",
        "\n",
        "Here's a peek at the completed code. We'll use **is_day** to store day and night, and another variable to switch the light on."
      ]
    },
    {
      "cell_type": "code",
      "metadata": {
        "id": "FLXyU6ccafeo"
      },
      "source": [
        "is_day = False\n",
        "lights_on = not is_day\n",
        "\n",
        "print('Daytime?')\n",
        "print(is_day)\n",
        "\n",
        "print('Lights on?')\n",
        "print(lights_on)"
      ],
      "execution_count": null,
      "outputs": []
    },
    {
      "cell_type": "markdown",
      "metadata": {
        "id": "RnmUtGwYdNgG"
      },
      "source": [
        "**Comece criando uma variável is_day**\n",
        "\n",
        "---\n",
        "\n",
        "Start by creating an **is_day** variable"
      ]
    },
    {
      "cell_type": "code",
      "metadata": {
        "id": "r5nwezGbeL2C"
      },
      "source": [
        "is_day"
      ],
      "execution_count": null,
      "outputs": []
    },
    {
      "cell_type": "markdown",
      "metadata": {
        "id": "lDG6dzBjeNJh"
      },
      "source": [
        "**Digamos que seja dia, então defina is_day como True**\n",
        "\n",
        "---\n",
        "\n",
        "Let's say it's daytime, so set **is_day** to **True**"
      ]
    },
    {
      "cell_type": "code",
      "metadata": {
        "id": "6GFlx-N2euVn"
      },
      "source": [
        "is_day = True"
      ],
      "execution_count": null,
      "outputs": []
    },
    {
      "cell_type": "markdown",
      "metadata": {
        "id": "jHEaZwUce23E"
      },
      "source": [
        "**Para manter as luzes apagadas durante o dia, crie uma variável lights_on que armazena False.**\n",
        "\n",
        "---\n",
        "\n",
        "To Keep the lights off during the day, create a **lights_on** variable that stores **False**."
      ]
    },
    {
      "cell_type": "code",
      "metadata": {
        "id": "cedAwG_Dfts1"
      },
      "source": [
        "is_day = True\n",
        "ligths_on = False"
      ],
      "execution_count": null,
      "outputs": []
    },
    {
      "cell_type": "markdown",
      "metadata": {
        "id": "MtPO4PbPgKvd"
      },
      "source": [
        "**Agora use print() para exibir Daytime? no console.**\n",
        "\n",
        "---\n",
        "\n",
        "Now use **print()** to display Daytime? in the console."
      ]
    },
    {
      "cell_type": "code",
      "metadata": {
        "id": "3_21dNSggZxt"
      },
      "source": [
        "is_day = True\n",
        "ligths_on = False\n",
        "\n",
        "print('Daytime?')"
      ],
      "execution_count": null,
      "outputs": []
    },
    {
      "cell_type": "markdown",
      "metadata": {
        "id": "SMUTYCUrgud6"
      },
      "source": [
        "**Exiba o valor da variável is_day no console.**\n",
        "\n",
        "---\n",
        "\n",
        "Display the value of the **is_day** variable in the console."
      ]
    },
    {
      "cell_type": "code",
      "metadata": {
        "id": "ICb6a1njhBwu"
      },
      "source": [
        "is_day = True\n",
        "ligths_on = False\n",
        "\n",
        "print('Daytime?')\n",
        "print(is_day)"
      ],
      "execution_count": null,
      "outputs": []
    },
    {
      "cell_type": "markdown",
      "metadata": {
        "id": "vQ-2NXAhhWN3"
      },
      "source": [
        "**É hora de verificar o status do status da luz!\n",
        "Começar exibindo Luzes acesas?**\n",
        "\n",
        "---\n",
        "\n",
        "Time to check on the status on the status of the light!\n",
        "Start by displaying **Lights on**?"
      ]
    },
    {
      "cell_type": "code",
      "metadata": {
        "id": "2MKb940uhuNI"
      },
      "source": [
        "is_day = True\n",
        "ligths_on = False\n",
        "\n",
        "print('Daytime?')\n",
        "print(is_day)\n",
        "\n",
        "print('Lights on?')"
      ],
      "execution_count": null,
      "outputs": []
    },
    {
      "cell_type": "markdown",
      "metadata": {
        "id": "-PIxjNQCiNLv"
      },
      "source": [
        "**Em seguida, exiba o valor da variável ligths_on.**\n",
        "\n",
        "---\n",
        "\n",
        "Next, display the value of the **ligths_on** variable."
      ]
    },
    {
      "cell_type": "code",
      "metadata": {
        "id": "2Rn0Nx_AiLge"
      },
      "source": [
        "is_day = True\n",
        "lights_on = False\n",
        "\n",
        "print('Daytime?')\n",
        "print(is_day)\n",
        "\n",
        "print('Lights on?')\n",
        "print(lights_on)"
      ],
      "execution_count": null,
      "outputs": []
    },
    {
      "cell_type": "markdown",
      "metadata": {
        "id": "zIuJdZK9ii7P"
      },
      "source": [
        "**Agora vamos simular o que acontece durante a noite. Defina is_day temporariamente como False.**\n",
        "\n",
        "---\n",
        "\n",
        "Now let's simulate what happens during the night. Temporarily set **is_day** to **False**."
      ]
    },
    {
      "cell_type": "code",
      "metadata": {
        "id": "dSV3IxI0i7sd"
      },
      "source": [
        "is_day = False\n",
        "lights_on = False\n",
        "\n",
        "print('Daytime?')\n",
        "print(is_day)\n",
        "\n",
        "print('Lights on?')\n",
        "print(lights_on)"
      ],
      "execution_count": null,
      "outputs": []
    },
    {
      "cell_type": "markdown",
      "metadata": {
        "id": "q4KhgvbxjUdt"
      },
      "source": [
        "**Quando não é dia, a luz deve estar acesa, então use para não atualizar light_on para o oposto de is_day.**\n",
        "\n",
        "---\n",
        "\n",
        "When it's not daytime, the light should be on, so use **not** to update **light_on** to the opposite of **is_day**."
      ]
    },
    {
      "cell_type": "code",
      "metadata": {
        "id": "tEtlfOG8j0mu"
      },
      "source": [
        "is_day = False\n",
        "lights_on = not is_day\n",
        "\n",
        "print('Daytime?')\n",
        "print(is_day)\n",
        "\n",
        "print('Lights on?')\n",
        "print(lights_on)"
      ],
      "execution_count": null,
      "outputs": []
    },
    {
      "cell_type": "markdown",
      "metadata": {
        "id": "-QYBHX5Xj5yH"
      },
      "source": [
        "**Escrevemos um código que verifica se é dia ou noite e liga e desliga as luzes de acordo.**\n",
        "\n",
        "---\n",
        "\n",
        "We've written some code that checks if it's daytime or nighttime and switches the lights on and off accordingly."
      ]
    }
  ]
}