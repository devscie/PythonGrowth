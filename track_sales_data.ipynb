{
  "nbformat": 4,
  "nbformat_minor": 0,
  "metadata": {
    "colab": {
      "name": "track_sales_data.ipynb",
      "provenance": [],
      "authorship_tag": "ABX9TyOAcOZmZwYfgv8pnpMQTQO7"
    },
    "kernelspec": {
      "name": "python3",
      "display_name": "Python 3"
    },
    "language_info": {
      "name": "python"
    }
  },
  "cells": [
    {
      "cell_type": "markdown",
      "metadata": {
        "id": "0fJHMSR3mAxw"
      },
      "source": [
        "**Vamos usar nosso conhecimento de igualdade numérica para escrever um código que rastreie os dados de vendas de um varejista online de jeans.**\n",
        "\n",
        "---\n",
        "\n",
        "Let's use our knowledge of number equality to write code that tracks sales data for an online jeans retailer."
      ]
    },
    {
      "cell_type": "markdown",
      "metadata": {
        "id": "25dcWKvFmZ_P"
      },
      "source": [
        "**Compararemos jeans_sold com a meta para ver se o varejista atingiu sua meta de vendas. Então vamos verificar se ainda há jeans em estoque.**\n",
        "\n",
        "---\n",
        "\n",
        "We'll compare **jeans_sold** with **target** to see if the retailer hit their sales target. Then we'll check if there are jeans still in stock."
      ]
    },
    {
      "cell_type": "code",
      "metadata": {
        "id": "jKUWX3BUl7Lf"
      },
      "source": [
        "stock = 600\n",
        "jeans_sold = 500\n",
        "target = 500\n",
        "\n",
        "target_hit = jeans_sold == target\n",
        "print('Hit jeans sale target: ')\n",
        "print(target_hit)\n",
        "\n",
        "current_stock = stock - jeans_sold\n",
        "in_stock = current_stock != 0\n",
        "print('Jeans in Stock: ')\n",
        "print(in_stock)"
      ],
      "execution_count": null,
      "outputs": []
    },
    {
      "cell_type": "markdown",
      "metadata": {
        "id": "6py0ITqfn9yn"
      },
      "source": [
        "**Codifique uma variável stock que armazene 600, seguida por jeans_sold e variáveis de destino que armazenem 500.**\n",
        "\n",
        "---\n",
        "\n",
        "Code a **stock** variable that stores **600** , followed by **jeans_sold** and **target** variables that both store **500** ."
      ]
    },
    {
      "cell_type": "code",
      "metadata": {
        "id": "am59645Fohbd"
      },
      "source": [
        "stock = 600\n",
        "jeans_sold = 500\n",
        "target = 500"
      ],
      "execution_count": null,
      "outputs": []
    },
    {
      "cell_type": "markdown",
      "metadata": {
        "id": "3Or9Sk8EoyjM"
      },
      "source": [
        "**Para ver se a meta de vendas foi atingida, verifique se jeans_sold tem o mesmo valor que a meta com ==**\n",
        "\n",
        "---\n",
        "\n",
        "To see if the sales target was achieved, check if **jeans_sold** has the same value as **target** with **==**"
      ]
    },
    {
      "cell_type": "code",
      "metadata": {
        "id": "ZV4NYQBCpY_m"
      },
      "source": [
        "stock = 600\n",
        "jeans_sold = 500\n",
        "target = 500\n",
        "\n",
        "print(jeans_sold == target)"
      ],
      "execution_count": null,
      "outputs": []
    },
    {
      "cell_type": "markdown",
      "metadata": {
        "id": "ujI8sHCTpxNH"
      },
      "source": [
        "**Em seguida, crie a variável target_hit para armazenar o resultado da comparação.**\n",
        "\n",
        "---\n",
        "\n",
        "Next, create the variable **target_hit** to store the result of the comparison."
      ]
    },
    {
      "cell_type": "code",
      "metadata": {
        "id": "aWUzp4NtqMpe"
      },
      "source": [
        "stock = 600\n",
        "jeans_sold = 500\n",
        "target = 500\n",
        "\n",
        "target_hit = jeans_sold == target"
      ],
      "execution_count": null,
      "outputs": []
    },
    {
      "cell_type": "markdown",
      "metadata": {
        "id": "Xv-WHYXMqSzm"
      },
      "source": [
        "Exibir **'Alcançar a meta de venda de jeans: '**\n",
        "\n",
        "---\n",
        "\n",
        "Display **'Hit jeans sale target: '**"
      ]
    },
    {
      "cell_type": "code",
      "metadata": {
        "id": "etT9e7-mqmTl"
      },
      "source": [
        "stock = 600\n",
        "jeans_sold = 500\n",
        "target = 500\n",
        "\n",
        "target_hit = jeans_sold == target\n",
        "print('Hit jeans sale target: ')"
      ],
      "execution_count": null,
      "outputs": []
    },
    {
      "cell_type": "markdown",
      "metadata": {
        "id": "r5UgOD-Gqub5"
      },
      "source": [
        "**Finalmente, use print para exibir o valor da variável target_hit.**\n",
        "\n",
        "---\n",
        "\n",
        "Finally, use **print** to display the value of the **target_hit** variable."
      ]
    },
    {
      "cell_type": "code",
      "metadata": {
        "id": "3WGS6ePorGQE"
      },
      "source": [
        "stock = 600\n",
        "jeans_sold = 500\n",
        "target = 500\n",
        "\n",
        "target_hit = jeans_sold == target\n",
        "print('Hit jeans sale target: ')\n",
        "print(target_hit)"
      ],
      "execution_count": null,
      "outputs": []
    },
    {
      "cell_type": "markdown",
      "metadata": {
        "id": "rbDUrip0rhRR"
      },
      "source": [
        "**Crie estoque_atual para controlar o estoque restante. Subtraia jeans_sold do estoque e registre o valor em estoque_atual.**\n",
        "\n",
        "---\n",
        "\n",
        "Create **current_stock** to keep track of the remaining stock. Subtract **jeans_sold** from **stock** and store the value into **current_stock**."
      ]
    },
    {
      "cell_type": "code",
      "metadata": {
        "id": "6EyAvrolruAA"
      },
      "source": [
        "stock = 600\n",
        "jeans_sold = 500\n",
        "target = 500\n",
        "\n",
        "target_hit = jeans_sold == target\n",
        "print('Hit jeans sale target: ')\n",
        "print(target_hit)\n",
        "\n",
        "current_stock = stock - jeans_sold"
      ],
      "execution_count": null,
      "outputs": []
    },
    {
      "cell_type": "markdown",
      "metadata": {
        "id": "-vKY6FF-sJzP"
      },
      "source": [
        "**Para verificar se o jeans ainda está em estoque, certifique-se de que current_stock não seja igual a 0**\n",
        "\n",
        "---\n",
        "\n",
        "To check if jeans are still in stock, make sure that **current_stock** not equal to **0**"
      ]
    },
    {
      "cell_type": "code",
      "metadata": {
        "id": "djFicqUYsHMb"
      },
      "source": [
        "stock = 600\n",
        "jeans_sold = 500\n",
        "target = 500\n",
        "\n",
        "target_hit = jeans_sold == target\n",
        "print('Hit jeans sale target: ')\n",
        "print(target_hit)\n",
        "\n",
        "current_stock = stock - jeans_sold\n",
        "in_stock = current_stock != 0"
      ],
      "execution_count": null,
      "outputs": []
    },
    {
      "cell_type": "markdown",
      "metadata": {
        "id": "3ErA-w7_tAq1"
      },
      "source": [
        "**Por fim, exiba \"Jeans in stock\" e, na próxima linha, o valor de in_stock.**\n",
        "\n",
        "---\n",
        "\n",
        "Finnaly, display **\"Jeans in stock\"** , and then on the next line the value of **in_stock**."
      ]
    },
    {
      "cell_type": "code",
      "metadata": {
        "id": "cLmSeJtcsHly"
      },
      "source": [
        "stock = 600\n",
        "jeans_sold = 500\n",
        "target = 500\n",
        "\n",
        "target_hit = jeans_sold == target\n",
        "print('Hit jeans sale target: ')\n",
        "print(target_hit)\n",
        "\n",
        "current_stock = stock - jeans_sold\n",
        "in_stock = current_stock != 0\n",
        "print('Jeans in Stock: ')\n",
        "print(in_stock)"
      ],
      "execution_count": null,
      "outputs": []
    },
    {
      "cell_type": "markdown",
      "metadata": {
        "id": "qFXVCm8rtf1g"
      },
      "source": [
        "**Bom trabalho usando comparações de números para controlar os dados de vendas!**\n",
        "\n",
        "---\n",
        "\n",
        "Good job using number comparisons to keep track of sales data!"
      ]
    }
  ]
}